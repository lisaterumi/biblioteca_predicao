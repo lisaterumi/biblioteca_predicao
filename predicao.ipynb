{
 "cells": [
  {
   "cell_type": "code",
   "execution_count": 1,
   "metadata": {},
   "outputs": [],
   "source": [
    "import predict_ner as predict\n"
   ]
  },
  {
   "cell_type": "code",
   "execution_count": 3,
   "metadata": {},
   "outputs": [],
   "source": [
    "MODEL_DIR = [r\"pucpr/eHelpBERTpt\"]"
   ]
  },
  {
   "cell_type": "code",
   "execution_count": 5,
   "metadata": {},
   "outputs": [
    {
     "name": "stdout",
     "output_type": "stream",
     "text": [
      "['Paciente recebeu medicação para febre e tosse.', ' Paciente tomou omeprazol e referiu dor de cabeça.', '']\n"
     ]
    }
   ],
   "source": [
    "Sentencas = 'Paciente recebeu medicação para febre e tosse. Paciente tomou omeprazol e referiu dor de cabeça.'\n",
    "Sentencas = Sentencas.replace('.','.#')\n",
    "sentencas = Sentencas.split('#')\n",
    "print(sentencas)\n"
   ]
  },
  {
   "cell_type": "code",
   "execution_count": 6,
   "metadata": {},
   "outputs": [
    {
     "name": "stdout",
     "output_type": "stream",
     "text": [
      "entrou\n",
      "['Paciente recebeu medicação para febre e tosse.', ' Paciente tomou omeprazol e referiu dor de cabeça.', '']\n",
      "pucpr/eHelpBERTpt\n"
     ]
    },
    {
     "data": {
      "application/vnd.jupyter.widget-view+json": {
       "model_id": "85d298e290234ee6a68ebbdffe4cc049",
       "version_major": 2,
       "version_minor": 0
      },
      "text/plain": [
       "HBox(children=(HTML(value='Downloading'), FloatProgress(value=0.0, max=13403.0), HTML(value='')))"
      ]
     },
     "metadata": {},
     "output_type": "display_data"
    },
    {
     "name": "stdout",
     "output_type": "stream",
     "text": [
      "\n"
     ]
    },
    {
     "data": {
      "application/vnd.jupyter.widget-view+json": {
       "model_id": "57b7e9766064400da5b88d72c9ac2a21",
       "version_major": 2,
       "version_minor": 0
      },
      "text/plain": [
       "HBox(children=(HTML(value='Downloading'), FloatProgress(value=0.0, max=709521335.0), HTML(value='')))"
      ]
     },
     "metadata": {},
     "output_type": "display_data"
    },
    {
     "name": "stdout",
     "output_type": "stream",
     "text": [
      "\n",
      "[[['B-PatientorDisabledGroup', 'O', 'B-TherapeuticorPreventiveProcedure', 'O', 'B-SignorSymptom', 'O', 'B-SignorSymptom', 'O'], ['B-PatientorDisabledGroup', 'O', 'B-Chemicals&Drugs+<>+B-OrganicChemical+<>+B-PharmacologicSubstance', 'O', 'O', 'B-SignorSymptom', 'I-SignorSymptom', 'I-SignorSymptom', 'O']]]\n",
      "'Paciente':{'B-PatientorDisabledGroup'},'recebeu':{'O'},'medicação':{'B-TherapeuticorPreventiveProcedure'},'para':{'O'},'febre':{'B-SignorSymptom'},'e':{'O'},'tosse':{'B-SignorSymptom'},'.':{'O'},'Paciente':{'B-PatientorDisabledGroup'},'tomou':{'O'},'omeprazol':{'B-Chemicals&Drugs+<>+B-OrganicChemical+<>+B-PharmacologicSubstance'},'e':{'O'},'referiu':{'O'},'dor':{'B-SignorSymptom'},'de':{'I-SignorSymptom'},'cabeça':{'I-SignorSymptom'},'.':{'O'}\n",
      "'Paciente':{'B-PatientorDisabledGroup'},'recebeu':{'O'},'medicação':{'B-TherapeuticorPreventiveProcedure'},'para':{'O'},'febre':{'B-SignorSymptom'},'e':{'O'},'tosse':{'B-SignorSymptom'},'.':{'O'},'Paciente':{'B-PatientorDisabledGroup'},'tomou':{'O'},'omeprazol':{'B-Chemicals&Drugs+<>+B-OrganicChemical+<>+B-PharmacologicSubstance'},'e':{'O'},'referiu':{'O'},'dor':{'B-SignorSymptom'},'de':{'I-SignorSymptom'},'cabeça':{'I-SignorSymptom'},'.':{'O'}\n"
     ]
    }
   ],
   "source": [
    "result = predict.predictALLSentenceBERT(sentencas,MODEL_DIR)\n",
    "print(result)"
   ]
  },
  {
   "cell_type": "code",
   "execution_count": null,
   "metadata": {},
   "outputs": [],
   "source": []
  }
 ],
 "metadata": {
  "kernelspec": {
   "display_name": "Python 3",
   "language": "python",
   "name": "python3"
  },
  "language_info": {
   "codemirror_mode": {
    "name": "ipython",
    "version": 3
   },
   "file_extension": ".py",
   "mimetype": "text/x-python",
   "name": "python",
   "nbconvert_exporter": "python",
   "pygments_lexer": "ipython3",
   "version": "3.8.5"
  }
 },
 "nbformat": 4,
 "nbformat_minor": 4
}
